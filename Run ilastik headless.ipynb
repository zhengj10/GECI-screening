{
 "cells": [
  {
   "cell_type": "code",
   "execution_count": 1,
   "id": "506150f4",
   "metadata": {},
   "outputs": [],
   "source": [
    "import os\n",
    "import subprocess\n",
    "import h5py"
   ]
  },
  {
   "cell_type": "code",
   "execution_count": 2,
   "id": "68cadaf7",
   "metadata": {},
   "outputs": [
    {
     "data": {
      "text/plain": [
       "'/Users/zhengj10/Python/GENIE/HaloCaMP'"
      ]
     },
     "execution_count": 2,
     "metadata": {},
     "output_type": "execute_result"
    }
   ],
   "source": [
    "os.getcwd()"
   ]
  },
  {
   "cell_type": "code",
   "execution_count": null,
   "id": "56219989",
   "metadata": {},
   "outputs": [],
   "source": []
  },
  {
   "cell_type": "code",
   "execution_count": 4,
   "id": "c84ec361",
   "metadata": {},
   "outputs": [
    {
     "name": "stdout",
     "output_type": "stream",
     "text": [
      "\n",
      "\n",
      "./run_ilastik.sh --headless --project=\"/Users/zhengj10/Desktop/Ongoing_project/wHaloCaMP/Headless_operation.ilp\" --export_source=\"simple segmentation\" --output_filename_format=\"/Volumes/genie/GECIScreenData/GECI_Imaging_Data/20211109_wHaloCaMP_raw/P04a-20211025_wHaloCaMP-673/imaging/96Well04-A04/Segment/results/{nickname}_results.h5\" --raw_data=\"/Volumes/genie/GECIScreenData/GECI_Imaging_Data/20211109_wHaloCaMP_raw/P04a-20211025_wHaloCaMP-673/imaging/96Well04-A04/SegmentAVG_AutoFocusRef1_96Well04-A04_135dot4GT1_8592.24_um_XY-Position_-35212_-6459.tif\"\n"
     ]
    }
   ],
   "source": [
    "import os\n",
    "import subprocess\n",
    "ilastik_location = '/Applications/ilastik-1.4.0b15-OSX.app/Contents/ilastik-release'\n",
    "ilastik_project = '/Users/zhengj10/Desktop/Ongoing_project/wHaloCaMP/Headless_operation.ilp'\n",
    "\n",
    "indir = '/Volumes/genie/GECIScreenData/GECI_Imaging_Data/20211109_wHaloCaMP_raw/P04a-20211025_wHaloCaMP-673/imaging/96Well04-A04/Segment/' # Add forward slash\n",
    "infiles = os.listdir(indir)\n",
    "os.chdir(ilastik_location)\n",
    "\n",
    "#Test with cutout_subregion#nickname and probabilities-- > bug for now H5 FORMAT INSTED OF TIFF ##\n",
    "for infile in infiles:\n",
    "    command = './run_ilastik.sh --headless --project=\"%s\" --export_source=\"simple segmentation\" --output_filename_format=\"%s/results/{nickname}_results.h5\" --raw_data=\"%s%s\"' % (\n",
    "        ilastik_project,\n",
    "        indir,\n",
    "        indir,\n",
    "        infile)\n",
    "    print(\"\\n\\n%s\" % command)\n",
    "    subprocess.call(command, shell=True)"
   ]
  },
  {
   "cell_type": "code",
   "execution_count": null,
   "id": "24de2150",
   "metadata": {},
   "outputs": [],
   "source": [
    "from skimage.io import imread"
   ]
  },
  {
   "cell_type": "code",
   "execution_count": null,
   "id": "6b6fb066",
   "metadata": {},
   "outputs": [],
   "source": []
  },
  {
   "cell_type": "code",
   "execution_count": null,
   "id": "c72b5385",
   "metadata": {},
   "outputs": [],
   "source": [
    "a.shape"
   ]
  },
  {
   "cell_type": "code",
   "execution_count": null,
   "id": "b1e6d2cc",
   "metadata": {},
   "outputs": [],
   "source": [
    "subprocess.run([\n",
    "    \"/Applications/ilastik-1.4.0b15-OSX.app/Contents/ilastik-release/run_ilastik.sh\",\n",
    "    '--project=/Users/zhengj10/Desktop/Ongoing_project/wHaloCaMP/Headless_operation.ilp',\n",
    "    '--headless',\n",
    "    '--output_format=hdf5',\n",
    "    '--output_filename_format=\"/Users/zhengj10/Desktop/ilastik_segmentation.h5\"',\n",
    "    '--export_source=\"simple segmentation\"',\n",
    "    '--raw_data=/Users/zhengj10/Desktop/Ongoing_project/wHaloCaMP/96Well04-A04/Segment/AVG_AutoFocusRef1_96Well04-A04_135dot4GT1_8592.24_um_XY-Position_-35212_-6459.tif'\n",
    "])"
   ]
  },
  {
   "cell_type": "code",
   "execution_count": null,
   "id": "15bc8ced",
   "metadata": {},
   "outputs": [],
   "source": [
    "# h5data = h5py.File(A,'r')"
   ]
  },
  {
   "cell_type": "code",
   "execution_count": null,
   "id": "ffb9e3df",
   "metadata": {},
   "outputs": [],
   "source": []
  },
  {
   "cell_type": "code",
   "execution_count": null,
   "id": "edb3999c",
   "metadata": {},
   "outputs": [],
   "source": [
    "cd .."
   ]
  },
  {
   "cell_type": "code",
   "execution_count": null,
   "id": "301de967",
   "metadata": {},
   "outputs": [],
   "source": [
    "os.getcwd()"
   ]
  },
  {
   "cell_type": "code",
   "execution_count": null,
   "id": "8a9ec69b",
   "metadata": {},
   "outputs": [],
   "source": [
    "cd .."
   ]
  },
  {
   "cell_type": "code",
   "execution_count": null,
   "id": "f8663e78",
   "metadata": {},
   "outputs": [],
   "source": [
    "cd ./Applications"
   ]
  },
  {
   "cell_type": "code",
   "execution_count": null,
   "id": "ab56c39c",
   "metadata": {},
   "outputs": [],
   "source": [
    "cd './Applications/'"
   ]
  },
  {
   "cell_type": "code",
   "execution_count": null,
   "id": "de1fc90b",
   "metadata": {},
   "outputs": [],
   "source": [
    "import h5py"
   ]
  },
  {
   "cell_type": "code",
   "execution_count": null,
   "id": "3423a7fe",
   "metadata": {},
   "outputs": [],
   "source": [
    "h5File = '/Users/zhengj10/Desktop/Ongoing_project/wHaloCaMP/96Well04-A04/Segment/test/results/AVG_AutoFocusRef1_96Well04-A04_135dot4GT1_8592.24_um_XY-Position_-35212_-6459_results.h5'"
   ]
  },
  {
   "cell_type": "code",
   "execution_count": null,
   "id": "b70361d6",
   "metadata": {},
   "outputs": [],
   "source": [
    "h5data = h5py.File(h5File,'r')"
   ]
  },
  {
   "cell_type": "code",
   "execution_count": null,
   "id": "f090d13c",
   "metadata": {},
   "outputs": [],
   "source": [
    "h5data.keys()"
   ]
  },
  {
   "cell_type": "code",
   "execution_count": null,
   "id": "ae40f308",
   "metadata": {},
   "outputs": [],
   "source": [
    "A = h5data['exported_data'][()][:,:,0]"
   ]
  },
  {
   "cell_type": "code",
   "execution_count": null,
   "id": "1be4e107",
   "metadata": {},
   "outputs": [],
   "source": [
    "import matplotlib.pyplot as plt\n",
    "import numpy as np"
   ]
  },
  {
   "cell_type": "code",
   "execution_count": null,
   "id": "fc0f07e7",
   "metadata": {},
   "outputs": [],
   "source": [
    "plt.imshow(B.astype('bool'),cmap='gray')"
   ]
  },
  {
   "cell_type": "code",
   "execution_count": null,
   "id": "eac9f4e3",
   "metadata": {},
   "outputs": [],
   "source": [
    "A.shape"
   ]
  },
  {
   "cell_type": "code",
   "execution_count": null,
   "id": "051c4d42",
   "metadata": {},
   "outputs": [],
   "source": [
    "B = A*-1+2\n",
    "np.max(A)"
   ]
  },
  {
   "cell_type": "code",
   "execution_count": null,
   "id": "e7f6f3e6",
   "metadata": {},
   "outputs": [],
   "source": [
    "B.astype('bool')"
   ]
  },
  {
   "cell_type": "code",
   "execution_count": null,
   "id": "0ec340be",
   "metadata": {},
   "outputs": [],
   "source": []
  }
 ],
 "metadata": {
  "kernelspec": {
   "display_name": "Python 3",
   "language": "python",
   "name": "python3"
  },
  "language_info": {
   "codemirror_mode": {
    "name": "ipython",
    "version": 3
   },
   "file_extension": ".py",
   "mimetype": "text/x-python",
   "name": "python",
   "nbconvert_exporter": "python",
   "pygments_lexer": "ipython3",
   "version": "3.8.8"
  }
 },
 "nbformat": 4,
 "nbformat_minor": 5
}
